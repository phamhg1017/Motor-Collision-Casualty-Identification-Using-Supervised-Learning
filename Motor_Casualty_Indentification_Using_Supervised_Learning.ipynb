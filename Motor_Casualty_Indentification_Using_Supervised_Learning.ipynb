{
  "cells": [
    {
      "cell_type": "code",
      "execution_count": null,
      "metadata": {
        "id": "fjruFnJuJ0NZ"
      },
      "outputs": [],
      "source": [
        "import pandas as pd\n",
        "import numpy as np\n",
        "import matplotlib.pyplot as plt\n",
        "import seaborn as sns\n",
        "\n",
        "%matplotlib inline\n",
        "sns.set_style(\"whitegrid\")\n",
        "plt.style.use(\"fivethirtyeight\")\n"
      ]
    },
    {
      "cell_type": "markdown",
      "metadata": {
        "id": "uNDDBV8FsKUj"
      },
      "source": [
        "#1) Data Processing"
      ]
    },
    {
      "cell_type": "markdown",
      "source": [
        "The data has been collected and precleaned directly from NY Open data (provided by NYPD)"
      ],
      "metadata": {
        "id": "vYHuP_N1f08N"
      }
    },
    {
      "cell_type": "code",
      "execution_count": null,
      "metadata": {
        "id": "pLIyigKxdy0b"
      },
      "outputs": [],
      "source": [
        "vehicle = pd.read_csv('/content/Motor_Vehicle_Collisions_-_Vehicles.csv')\n",
        "crash = pd.read_csv('/content/Motor_Vehicle_Collisions_-_Crashes.csv')\n",
        "person = pd.read_csv('/content/Motor_Vehicle_Collisions_-_Person.csv')\n",
        "\n"
      ]
    },
    {
      "cell_type": "markdown",
      "source": [
        "Add variables to identify larger vehicles and smaller vehicles"
      ],
      "metadata": {
        "id": "Z545yvK5kVs7"
      }
    },
    {
      "cell_type": "code",
      "execution_count": null,
      "metadata": {
        "id": "nmJLwrH2YdZI"
      },
      "outputs": [],
      "source": [
        "#Create seperate variables of public and personal vehicle drivers\n",
        "vehicle['PUBLIC_TRANSPORTATION'] = np.where(vehicle['VEHICLE_MAKE'].str.contains('BUS|TRUCK', case=False, na=False), 1, 0)\n",
        "vehicle['PERSONAL_VEHICLE'] = np.where(vehicle['VEHICLE_MAKE'].str.contains('CAR|SUV', case=False, na=False), 1, 0)\n"
      ]
    },
    {
      "cell_type": "code",
      "execution_count": null,
      "metadata": {
        "id": "bhJn7uoCTm2W"
      },
      "outputs": [],
      "source": [
        "#vehicle = vehicle[vehicle['VEHICLE_MAKE'].notna() & vehicle['VEHICLE_MAKE'].str.contains('CAR|SUV|BUS|TRUCK', case=False)]\n"
      ]
    },
    {
      "cell_type": "markdown",
      "metadata": {
        "id": "G6-tjTNmZ9Mh"
      },
      "source": [
        "a) Merge data"
      ]
    },
    {
      "cell_type": "code",
      "execution_count": null,
      "metadata": {
        "id": "oYM4uAlfnB26"
      },
      "outputs": [],
      "source": [
        "#merge person with crash\n",
        "df = pd.merge(person, crash, on='COLLISION_ID', how='inner')\n"
      ]
    },
    {
      "cell_type": "code",
      "execution_count": null,
      "metadata": {
        "id": "faAiNiYQnB-e"
      },
      "outputs": [],
      "source": [
        "#merge the rest with vehicle\n",
        "df = pd.merge(df, vehicle, left_on='VEHICLE_ID', right_on='UNIQUE_ID', how='inner')\n"
      ]
    },
    {
      "cell_type": "code",
      "execution_count": null,
      "metadata": {
        "colab": {
          "base_uri": "https://localhost:8080/"
        },
        "id": "hBcUpE3wTOuQ",
        "outputId": "e8a6f303-6fb4-443d-c295-083c026931a2"
      },
      "outputs": [
        {
          "output_type": "stream",
          "name": "stdout",
          "text": [
            "<class 'pandas.core.frame.DataFrame'>\n",
            "Int64Index: 81691 entries, 0 to 81690\n",
            "Data columns (total 21 columns):\n",
            " #   Column                       Non-Null Count  Dtype \n",
            "---  ------                       --------------  ----- \n",
            " 0   UNIQUE_ID_x                  81691 non-null  int64 \n",
            " 1   COLLISION_ID                 81691 non-null  int64 \n",
            " 2   CRASH_DATE                   81691 non-null  object\n",
            " 3   CRASH_TIME                   81691 non-null  object\n",
            " 4   VEHICLE_ID                   81691 non-null  int64 \n",
            " 5   PERSON_AGE                   81691 non-null  int64 \n",
            " 6   SAFETY_EQUIPMENT             81691 non-null  object\n",
            " 7   PERSON_SEX                   81691 non-null  object\n",
            " 8   BOROUGH                      81691 non-null  object\n",
            " 9   NUMBER OF PERSONS INJURED    81691 non-null  int64 \n",
            " 10  NUMBER OF PERSONS KILLED     81691 non-null  int64 \n",
            " 11  UNIQUE_ID_y                  81691 non-null  int64 \n",
            " 12  STATE_REGISTRATION           81524 non-null  object\n",
            " 13  VEHICLE_MAKE                 81686 non-null  object\n",
            " 14  VEHICLE_YEAR                 81691 non-null  int64 \n",
            " 15  TRAVEL_DIRECTION             81691 non-null  object\n",
            " 16  DRIVER_LICENSE_STATUS        79706 non-null  object\n",
            " 17  DRIVER_LICENSE_JURISDICTION  79538 non-null  object\n",
            " 18  PRE_CRASH                    81691 non-null  object\n",
            " 19  PUBLIC_TRANSPORTATION        81691 non-null  int64 \n",
            " 20  PERSONAL_VEHICLE             81691 non-null  int64 \n",
            "dtypes: int64(10), object(11)\n",
            "memory usage: 13.7+ MB\n"
          ]
        }
      ],
      "source": [
        "df.info()"
      ]
    },
    {
      "cell_type": "code",
      "execution_count": null,
      "metadata": {
        "colab": {
          "base_uri": "https://localhost:8080/",
          "height": 71
        },
        "id": "Q-UIrSWOJtCw",
        "outputId": "88c7dbba-8973-483e-e1c0-8db9b8697da5"
      },
      "outputs": [
        {
          "output_type": "execute_result",
          "data": {
            "text/plain": [
              "\"\\n# If it's not already, convert the 'BOROUGH' column to a string type\\ndf['BOROUGH'] = df['BOROUGH'].astype(str)\\n\\n# Create dummy variables for the 'BOROUGH' column\\nborough_dummies = pd.get_dummies(df['BOROUGH'], prefix='BOROUGH')\\n\\n# Concatenate the dummy variables back to the original DataFrame\\ndf = pd.concat([df, borough_dummies], axis=1)\""
            ],
            "application/vnd.google.colaboratory.intrinsic+json": {
              "type": "string"
            }
          },
          "metadata": {},
          "execution_count": 8
        }
      ],
      "source": [
        "\"\"\"\n",
        "# If it's not already, convert the 'BOROUGH' column to a string type\n",
        "df['BOROUGH'] = df['BOROUGH'].astype(str)\n",
        "\n",
        "# Create dummy variables for the 'BOROUGH' column\n",
        "borough_dummies = pd.get_dummies(df['BOROUGH'], prefix='BOROUGH')\n",
        "\n",
        "# Concatenate the dummy variables back to the original DataFrame\n",
        "df = pd.concat([df, borough_dummies], axis=1)\"\"\""
      ]
    },
    {
      "cell_type": "markdown",
      "source": [
        "#2) Feature Engineering"
      ],
      "metadata": {
        "id": "tV5KXdEYk0Qe"
      }
    },
    {
      "cell_type": "code",
      "execution_count": null,
      "metadata": {
        "id": "X5z9Btm5TMpZ"
      },
      "outputs": [],
      "source": [
        "# Create the 'casualty' column to identify level of casualty\n",
        "df['CASUALTY'] = df.apply(lambda row: \"YES\" if (row['NUMBER OF PERSONS INJURED'] >= 1) or (row['NUMBER OF PERSONS KILLED'] >= 1) else \"NO\", axis=1)\n"
      ]
    },
    {
      "cell_type": "code",
      "execution_count": null,
      "metadata": {
        "id": "341MYT7UJr-A"
      },
      "outputs": [],
      "source": [
        "\n",
        "# Convert the 'CRASH_DATE' column to a datetime type\n",
        "df['CRASH_DATE'] = pd.to_datetime(df['CRASH_DATE'])\n",
        "\n",
        "# Create a new column 'VEHICLE_AGE' to store the calculated vehicle age\n",
        "df['VEHICLE_AGE'] = df['CRASH_DATE'].dt.year - df['VEHICLE_YEAR']\n",
        "\n",
        "# Set vehicle age to 0 if VEHICLE_YEAR is greater than CRASH_DATE\n",
        "df.loc[df['VEHICLE_YEAR'] > df['CRASH_DATE'].dt.year, 'VEHICLE_AGE'] = 0\n",
        "\n",
        "# Drop'VEHICLE_YEAR'\n",
        "df.drop('VEHICLE_YEAR', axis=1, inplace=True)"
      ]
    },
    {
      "cell_type": "code",
      "execution_count": null,
      "metadata": {
        "colab": {
          "base_uri": "https://localhost:8080/"
        },
        "id": "3JqrFChTV-tv",
        "outputId": "10c48384-d4e5-4e56-89f2-fcf98a6bd5b5"
      },
      "outputs": [
        {
          "output_type": "stream",
          "name": "stdout",
          "text": [
            "<class 'pandas.core.frame.DataFrame'>\n",
            "Int64Index: 81691 entries, 0 to 81690\n",
            "Data columns (total 22 columns):\n",
            " #   Column                       Non-Null Count  Dtype         \n",
            "---  ------                       --------------  -----         \n",
            " 0   UNIQUE_ID_x                  81691 non-null  int64         \n",
            " 1   COLLISION_ID                 81691 non-null  int64         \n",
            " 2   CRASH_DATE                   81691 non-null  datetime64[ns]\n",
            " 3   CRASH_TIME                   81691 non-null  object        \n",
            " 4   VEHICLE_ID                   81691 non-null  int64         \n",
            " 5   PERSON_AGE                   81691 non-null  int64         \n",
            " 6   SAFETY_EQUIPMENT             81691 non-null  object        \n",
            " 7   PERSON_SEX                   81691 non-null  object        \n",
            " 8   BOROUGH                      81691 non-null  object        \n",
            " 9   NUMBER OF PERSONS INJURED    81691 non-null  int64         \n",
            " 10  NUMBER OF PERSONS KILLED     81691 non-null  int64         \n",
            " 11  UNIQUE_ID_y                  81691 non-null  int64         \n",
            " 12  STATE_REGISTRATION           81524 non-null  object        \n",
            " 13  VEHICLE_MAKE                 81686 non-null  object        \n",
            " 14  TRAVEL_DIRECTION             81691 non-null  object        \n",
            " 15  DRIVER_LICENSE_STATUS        79706 non-null  object        \n",
            " 16  DRIVER_LICENSE_JURISDICTION  79538 non-null  object        \n",
            " 17  PRE_CRASH                    81691 non-null  object        \n",
            " 18  PUBLIC_TRANSPORTATION        81691 non-null  int64         \n",
            " 19  PERSONAL_VEHICLE             81691 non-null  int64         \n",
            " 20  CASUALTY                     81691 non-null  object        \n",
            " 21  VEHICLE_AGE                  81691 non-null  int64         \n",
            "dtypes: datetime64[ns](1), int64(10), object(11)\n",
            "memory usage: 14.3+ MB\n"
          ]
        }
      ],
      "source": [
        "df.info()\n"
      ]
    },
    {
      "cell_type": "code",
      "execution_count": null,
      "metadata": {
        "id": "lcyqhjA6NiZm"
      },
      "outputs": [],
      "source": [
        "#df.to_csv('/content/output.csv', index=False)\n"
      ]
    },
    {
      "cell_type": "code",
      "execution_count": null,
      "metadata": {
        "id": "IRE-sIYa0Tmq"
      },
      "outputs": [],
      "source": [
        "# Drop unused features\n",
        "columns_to_drop = [0, 1, 2, 3, 4, 9, 10, 11, 12, 13, 16]\n",
        "df = df.drop(df.columns[columns_to_drop], axis=1)\n"
      ]
    },
    {
      "cell_type": "code",
      "execution_count": null,
      "metadata": {
        "colab": {
          "base_uri": "https://localhost:8080/",
          "height": 496
        },
        "id": "akRYWIKP1gZL",
        "outputId": "f2f9a8c0-0988-4428-d024-48f98ceab695"
      },
      "outputs": [
        {
          "output_type": "execute_result",
          "data": {
            "text/plain": [
              "<Axes: xlabel='CASUALTY', ylabel='count'>"
            ]
          },
          "metadata": {},
          "execution_count": 14
        },
        {
          "output_type": "display_data",
          "data": {
            "text/plain": [
              "<Figure size 640x480 with 1 Axes>"
            ],
            "image/png": "[encoded data removed]"
          },
          "metadata": {}
        }
      ],
      "source": [
        "#Checking if target class suffer from significant imbalance\n",
        "sns.countplot(x='CASUALTY', data=df)"
      ]
    },
    {
      "cell_type": "code",
      "execution_count": null,
      "metadata": {
        "id": "d24ATSuvJFTH"
      },
      "outputs": [],
      "source": [
        "categorical_col = []\n",
        "for column in df.columns:\n",
        "    if df[column].dtype == object and len(df[column].unique()) <= 50:\n",
        "        categorical_col.append(column)\n",
        "\n",
        "#convert attrition to numeric variable\n",
        "#df['casualty'] = df.casualty.astype(\"category\").cat.codes"
      ]
    },
    {
      "cell_type": "code",
      "execution_count": null,
      "metadata": {
        "colab": {
          "base_uri": "https://localhost:8080/"
        },
        "id": "zVP-r451XJh4",
        "outputId": "80be8f88-a905-4708-8cc1-8ed0543467c5"
      },
      "outputs": [
        {
          "output_type": "stream",
          "name": "stdout",
          "text": [
            "<class 'pandas.core.frame.DataFrame'>\n",
            "Int64Index: 81691 entries, 0 to 81690\n",
            "Data columns (total 11 columns):\n",
            " #   Column                 Non-Null Count  Dtype \n",
            "---  ------                 --------------  ----- \n",
            " 0   PERSON_AGE             81691 non-null  int64 \n",
            " 1   SAFETY_EQUIPMENT       81691 non-null  object\n",
            " 2   PERSON_SEX             81691 non-null  object\n",
            " 3   BOROUGH                81691 non-null  object\n",
            " 4   TRAVEL_DIRECTION       81691 non-null  object\n",
            " 5   DRIVER_LICENSE_STATUS  79706 non-null  object\n",
            " 6   PRE_CRASH              81691 non-null  object\n",
            " 7   PUBLIC_TRANSPORTATION  81691 non-null  int64 \n",
            " 8   PERSONAL_VEHICLE       81691 non-null  int64 \n",
            " 9   CASUALTY               81691 non-null  object\n",
            " 10  VEHICLE_AGE            81691 non-null  int64 \n",
            "dtypes: int64(4), object(7)\n",
            "memory usage: 7.5+ MB\n"
          ]
        }
      ],
      "source": [
        "df.info()"
      ]
    },
    {
      "cell_type": "code",
      "execution_count": null,
      "metadata": {
        "colab": {
          "base_uri": "https://localhost:8080/",
          "height": 107
        },
        "id": "CPSWAN-Cnkbv",
        "outputId": "52e00da2-c9e3-4d13-f1ac-20afd877b0a7"
      },
      "outputs": [
        {
          "output_type": "execute_result",
          "data": {
            "text/plain": [
              "\"import pandas as pd\\nfrom sklearn.preprocessing import StandardScaler\\n\\n# You can select only the columns that need to be standardized (numerical features)\\n#numerical_features = ['PERSON_AGE', 'VEHICLE_YEAR']\\n\\n# Initialize the StandardScaler\\nscaler = StandardScaler()\\n\\n# Fit and transform the selected numerical features using StandardScaler\\n#df[numerical_features] = scaler.fit_transform(df[numerical_features])\\n\\n# The DataFrame 'df' now has the standardized numerical features\""
            ],
            "application/vnd.google.colaboratory.intrinsic+json": {
              "type": "string"
            }
          },
          "metadata": {},
          "execution_count": 17
        }
      ],
      "source": [
        "\"\"\"import pandas as pd\n",
        "from sklearn.preprocessing import StandardScaler\n",
        "\n",
        "# You can select only the columns that need to be standardized (numerical features)\n",
        "#numerical_features = ['PERSON_AGE', 'VEHICLE_YEAR']\n",
        "\n",
        "# Initialize the StandardScaler\n",
        "scaler = StandardScaler()\n",
        "\n",
        "# Fit and transform the selected numerical features using StandardScaler\n",
        "#df[numerical_features] = scaler.fit_transform(df[numerical_features])\n",
        "\n",
        "# The DataFrame 'df' now has the standardized numerical features\"\"\"\n"
      ]
    },
    {
      "cell_type": "code",
      "execution_count": null,
      "metadata": {
        "id": "DQHCqTPMJNF1"
      },
      "outputs": [],
      "source": [
        "categorical_col = []\n",
        "for column in df.columns:\n",
        "    if df[column].dtype == object and len(df[column].unique()) <= 50:\n",
        "        categorical_col.append(column)\n",
        "\n",
        "df['CASUALTY'] = df.CASUALTY.astype(\"category\").cat.codes"
      ]
    },
    {
      "cell_type": "code",
      "execution_count": null,
      "metadata": {
        "id": "JlysmGowPZ-t"
      },
      "outputs": [],
      "source": [
        "categorical_col.remove('CASUALTY')\n"
      ]
    },
    {
      "cell_type": "code",
      "execution_count": null,
      "metadata": {
        "colab": {
          "base_uri": "https://localhost:8080/",
          "height": 1000
        },
        "id": "y8gL-6faPaDW",
        "outputId": "971339f5-4d99-4bee-8e4c-9ef08333df15"
      },
      "outputs": [
        {
          "output_type": "stream",
          "name": "stdout",
          "text": [
            "<class 'pandas.core.frame.DataFrame'>\n",
            "Int64Index: 81691 entries, 0 to 81690\n",
            "Data columns (total 59 columns):\n",
            " #   Column                                                     Non-Null Count  Dtype\n",
            "---  ------                                                     --------------  -----\n",
            " 0   PERSON_AGE                                                 81691 non-null  int64\n",
            " 1   PUBLIC_TRANSPORTATION                                      81691 non-null  int64\n",
            " 2   PERSONAL_VEHICLE                                           81691 non-null  int64\n",
            " 3   CASUALTY                                                   81691 non-null  int8 \n",
            " 4   VEHICLE_AGE                                                81691 non-null  int64\n",
            " 5   SAFETY_EQUIPMENT_Air Bag Deployed                          81691 non-null  uint8\n",
            " 6   SAFETY_EQUIPMENT_Air Bag Deployed/Child Restraint          81691 non-null  uint8\n",
            " 7   SAFETY_EQUIPMENT_Air Bag Deployed/Lap Belt                 81691 non-null  uint8\n",
            " 8   SAFETY_EQUIPMENT_Air Bag Deployed/Lap Belt/Harness         81691 non-null  uint8\n",
            " 9   SAFETY_EQUIPMENT_Child Restraint Only                      81691 non-null  uint8\n",
            " 10  SAFETY_EQUIPMENT_Harness                                   81691 non-null  uint8\n",
            " 11  SAFETY_EQUIPMENT_Helmet (Motorcycle Only)                  81691 non-null  uint8\n",
            " 12  SAFETY_EQUIPMENT_Helmet Only (In-Line Skater/Bicyclist)    81691 non-null  uint8\n",
            " 13  SAFETY_EQUIPMENT_Helmet/Other (In-Line Skater/Bicyclist)   81691 non-null  uint8\n",
            " 14  SAFETY_EQUIPMENT_Lap Belt                                  81691 non-null  uint8\n",
            " 15  SAFETY_EQUIPMENT_Lap Belt & Harness                        81691 non-null  uint8\n",
            " 16  SAFETY_EQUIPMENT_None                                      81691 non-null  uint8\n",
            " 17  SAFETY_EQUIPMENT_Other                                     81691 non-null  uint8\n",
            " 18  SAFETY_EQUIPMENT_Pads Only (In-Line Skater/Bicyclist)      81691 non-null  uint8\n",
            " 19  SAFETY_EQUIPMENT_Stoppers Only (In-Line Skater/Bicyclist)  81691 non-null  uint8\n",
            " 20  SAFETY_EQUIPMENT_Unknown                                   81691 non-null  uint8\n",
            " 21  PERSON_SEX_F                                               81691 non-null  uint8\n",
            " 22  PERSON_SEX_M                                               81691 non-null  uint8\n",
            " 23  BOROUGH_BRONX                                              81691 non-null  uint8\n",
            " 24  BOROUGH_BROOKLYN                                           81691 non-null  uint8\n",
            " 25  BOROUGH_MANHATTAN                                          81691 non-null  uint8\n",
            " 26  BOROUGH_QUEENS                                             81691 non-null  uint8\n",
            " 27  BOROUGH_STATEN ISLAND                                      81691 non-null  uint8\n",
            " 28  TRAVEL_DIRECTION_East                                      81691 non-null  uint8\n",
            " 29  TRAVEL_DIRECTION_North                                     81691 non-null  uint8\n",
            " 30  TRAVEL_DIRECTION_Northeast                                 81691 non-null  uint8\n",
            " 31  TRAVEL_DIRECTION_Northwest                                 81691 non-null  uint8\n",
            " 32  TRAVEL_DIRECTION_South                                     81691 non-null  uint8\n",
            " 33  TRAVEL_DIRECTION_Southeast                                 81691 non-null  uint8\n",
            " 34  TRAVEL_DIRECTION_Southwest                                 81691 non-null  uint8\n",
            " 35  TRAVEL_DIRECTION_Unknown                                   81691 non-null  uint8\n",
            " 36  TRAVEL_DIRECTION_West                                      81691 non-null  uint8\n",
            " 37  DRIVER_LICENSE_STATUS_Licensed                             81691 non-null  uint8\n",
            " 38  DRIVER_LICENSE_STATUS_Permit                               81691 non-null  uint8\n",
            " 39  DRIVER_LICENSE_STATUS_Unlicensed                           81691 non-null  uint8\n",
            " 40  PRE_CRASH_Avoiding Object in Roadway                       81691 non-null  uint8\n",
            " 41  PRE_CRASH_Backing                                          81691 non-null  uint8\n",
            " 42  PRE_CRASH_Changing Lanes                                   81691 non-null  uint8\n",
            " 43  PRE_CRASH_Entering Parked Position                         81691 non-null  uint8\n",
            " 44  PRE_CRASH_Going Straight Ahead                             81691 non-null  uint8\n",
            " 45  PRE_CRASH_Making Left Turn                                 81691 non-null  uint8\n",
            " 46  PRE_CRASH_Making Left Turn on Red                          81691 non-null  uint8\n",
            " 47  PRE_CRASH_Making Right Turn                                81691 non-null  uint8\n",
            " 48  PRE_CRASH_Making Right Turn on Red                         81691 non-null  uint8\n",
            " 49  PRE_CRASH_Making U Turn                                    81691 non-null  uint8\n",
            " 50  PRE_CRASH_Merging                                          81691 non-null  uint8\n",
            " 51  PRE_CRASH_Other*                                           81691 non-null  uint8\n",
            " 52  PRE_CRASH_Parked                                           81691 non-null  uint8\n",
            " 53  PRE_CRASH_Passing                                          81691 non-null  uint8\n",
            " 54  PRE_CRASH_Police Pursuit                                   81691 non-null  uint8\n",
            " 55  PRE_CRASH_Slowing or Stopping                              81691 non-null  uint8\n",
            " 56  PRE_CRASH_Starting from Parking                            81691 non-null  uint8\n",
            " 57  PRE_CRASH_Starting in Traffic                              81691 non-null  uint8\n",
            " 58  PRE_CRASH_Stopped in Traffic                               81691 non-null  uint8\n",
            "dtypes: int64(4), int8(1), uint8(54)\n",
            "memory usage: 7.4 MB\n"
          ]
        },
        {
          "output_type": "execute_result",
          "data": {
            "text/plain": [
              "'\\nfrom sklearn.preprocessing import LabelEncoder\\n\\nlabel = LabelEncoder()\\nfor column in categorical_col:\\n    df[column] = label.fit_transform(df[column])'"
            ],
            "application/vnd.google.colaboratory.intrinsic+json": {
              "type": "string"
            }
          },
          "metadata": {},
          "execution_count": 20
        }
      ],
      "source": [
        "# Transform categorical data into dummies\n",
        "# categorical_col.remove(\"Attrition\")\n",
        "df = pd.get_dummies(df, columns=categorical_col)\n",
        "df.info()\n",
        "\n",
        "\"\"\"\n",
        "from sklearn.preprocessing import LabelEncoder\n",
        "\n",
        "label = LabelEncoder()\n",
        "for column in categorical_col:\n",
        "    df[column] = label.fit_transform(df[column])\"\"\""
      ]
    },
    {
      "cell_type": "code",
      "execution_count": null,
      "metadata": {
        "colab": {
          "base_uri": "https://localhost:8080/"
        },
        "id": "-MDBhJ7th7qk",
        "outputId": "f1faf2e9-a5b8-4ec3-c105-a569a57d980e"
      },
      "outputs": [
        {
          "output_type": "stream",
          "name": "stdout",
          "text": [
            "PERSON_AGE                                                  -0.028205\n",
            "PUBLIC_TRANSPORTATION                                       -0.085127\n",
            "PERSONAL_VEHICLE                                             0.050941\n",
            "VEHICLE_AGE                                                  0.033411\n",
            "SAFETY_EQUIPMENT_Air Bag Deployed                            0.040999\n",
            "SAFETY_EQUIPMENT_Air Bag Deployed/Child Restraint            0.005225\n",
            "SAFETY_EQUIPMENT_Air Bag Deployed/Lap Belt                   0.022207\n",
            "SAFETY_EQUIPMENT_Air Bag Deployed/Lap Belt/Harness           0.058881\n",
            "SAFETY_EQUIPMENT_Child Restraint Only                       -0.003183\n",
            "SAFETY_EQUIPMENT_Harness                                    -0.003430\n",
            "SAFETY_EQUIPMENT_Helmet (Motorcycle Only)                    0.079474\n",
            "SAFETY_EQUIPMENT_Helmet Only (In-Line Skater/Bicyclist)      0.017740\n",
            "SAFETY_EQUIPMENT_Helmet/Other (In-Line Skater/Bicyclist)     0.011737\n",
            "SAFETY_EQUIPMENT_Lap Belt                                    0.004418\n",
            "SAFETY_EQUIPMENT_Lap Belt & Harness                          0.017304\n",
            "SAFETY_EQUIPMENT_None                                       -0.045524\n",
            "SAFETY_EQUIPMENT_Other                                      -0.020043\n",
            "SAFETY_EQUIPMENT_Pads Only (In-Line Skater/Bicyclist)        0.005225\n",
            "SAFETY_EQUIPMENT_Stoppers Only (In-Line Skater/Bicyclist)   -0.000052\n",
            "SAFETY_EQUIPMENT_Unknown                                    -0.029384\n",
            "PERSON_SEX_F                                                 0.001894\n",
            "PERSON_SEX_M                                                -0.001894\n",
            "BOROUGH_BRONX                                                0.006435\n",
            "BOROUGH_BROOKLYN                                             0.024967\n",
            "BOROUGH_MANHATTAN                                           -0.061463\n",
            "BOROUGH_QUEENS                                               0.008423\n",
            "BOROUGH_STATEN ISLAND                                        0.025208\n",
            "TRAVEL_DIRECTION_East                                        0.003349\n",
            "TRAVEL_DIRECTION_North                                      -0.004574\n",
            "TRAVEL_DIRECTION_Northeast                                  -0.002335\n",
            "TRAVEL_DIRECTION_Northwest                                   0.008020\n",
            "TRAVEL_DIRECTION_South                                       0.001861\n",
            "TRAVEL_DIRECTION_Southeast                                   0.016472\n",
            "TRAVEL_DIRECTION_Southwest                                   0.000728\n",
            "TRAVEL_DIRECTION_Unknown                                    -0.037942\n",
            "TRAVEL_DIRECTION_West                                        0.004317\n",
            "DRIVER_LICENSE_STATUS_Licensed                              -0.048842\n",
            "DRIVER_LICENSE_STATUS_Permit                                 0.021546\n",
            "DRIVER_LICENSE_STATUS_Unlicensed                             0.048757\n",
            "PRE_CRASH_Avoiding Object in Roadway                        -0.004503\n",
            "PRE_CRASH_Backing                                           -0.061500\n",
            "PRE_CRASH_Changing Lanes                                    -0.036536\n",
            "PRE_CRASH_Entering Parked Position                          -0.049858\n",
            "PRE_CRASH_Going Straight Ahead                               0.098825\n",
            "PRE_CRASH_Making Left Turn                                   0.090719\n",
            "PRE_CRASH_Making Left Turn on Red                            0.000205\n",
            "PRE_CRASH_Making Right Turn                                 -0.018190\n",
            "PRE_CRASH_Making Right Turn on Red                          -0.002623\n",
            "PRE_CRASH_Making U Turn                                      0.020807\n",
            "PRE_CRASH_Merging                                           -0.021866\n",
            "PRE_CRASH_Other*                                            -0.013408\n",
            "PRE_CRASH_Parked                                            -0.137567\n",
            "PRE_CRASH_Passing                                           -0.018529\n",
            "PRE_CRASH_Police Pursuit                                    -0.002339\n",
            "PRE_CRASH_Slowing or Stopping                                0.017967\n",
            "PRE_CRASH_Starting from Parking                             -0.040957\n",
            "PRE_CRASH_Starting in Traffic                                0.003724\n",
            "PRE_CRASH_Stopped in Traffic                                 0.007531\n",
            "dtype: float64\n"
          ]
        }
      ],
      "source": [
        "# Select numerical columns\n",
        "numerical_columns = df.select_dtypes(include=['int64', 'float64', 'uint8'])\n",
        "\n",
        "# Find the column name for \"casualty\"\n",
        "casualty_column_name = \"CASUALTY\"\n",
        "\n",
        "# Calculate the correlation with other variables\n",
        "correlation_casualty = numerical_columns.corrwith(df[casualty_column_name])\n",
        "print(correlation_casualty)\n"
      ]
    },
    {
      "cell_type": "code",
      "execution_count": null,
      "metadata": {
        "id": "Z8nFdje7jVUz"
      },
      "outputs": [],
      "source": [
        "# Define the target column name\n",
        "target_column_name = \"CASUALTY\"\n",
        "\n",
        "# Filter columns with negative correlation with the target column\n",
        "negative_corr_cols = df.columns[df.corr()[target_column_name] < 0]\n",
        "\n",
        "# Drop the columns with negative correlation\n",
        "df = df.drop(negative_corr_cols, axis=1)\n"
      ]
    },
    {
      "cell_type": "code",
      "execution_count": null,
      "metadata": {
        "colab": {
          "base_uri": "https://localhost:8080/"
        },
        "id": "7MDquuhskTB5",
        "outputId": "a2855f2b-728f-4a8f-a93a-eed0242e2031"
      },
      "outputs": [
        {
          "output_type": "stream",
          "name": "stdout",
          "text": [
            "<class 'pandas.core.frame.DataFrame'>\n",
            "Int64Index: 81691 entries, 0 to 81690\n",
            "Data columns (total 33 columns):\n",
            " #   Column                                                    Non-Null Count  Dtype\n",
            "---  ------                                                    --------------  -----\n",
            " 0   PERSONAL_VEHICLE                                          81691 non-null  int64\n",
            " 1   CASUALTY                                                  81691 non-null  int8 \n",
            " 2   VEHICLE_AGE                                               81691 non-null  int64\n",
            " 3   SAFETY_EQUIPMENT_Air Bag Deployed                         81691 non-null  uint8\n",
            " 4   SAFETY_EQUIPMENT_Air Bag Deployed/Child Restraint         81691 non-null  uint8\n",
            " 5   SAFETY_EQUIPMENT_Air Bag Deployed/Lap Belt                81691 non-null  uint8\n",
            " 6   SAFETY_EQUIPMENT_Air Bag Deployed/Lap Belt/Harness        81691 non-null  uint8\n",
            " 7   SAFETY_EQUIPMENT_Helmet (Motorcycle Only)                 81691 non-null  uint8\n",
            " 8   SAFETY_EQUIPMENT_Helmet Only (In-Line Skater/Bicyclist)   81691 non-null  uint8\n",
            " 9   SAFETY_EQUIPMENT_Helmet/Other (In-Line Skater/Bicyclist)  81691 non-null  uint8\n",
            " 10  SAFETY_EQUIPMENT_Lap Belt                                 81691 non-null  uint8\n",
            " 11  SAFETY_EQUIPMENT_Lap Belt & Harness                       81691 non-null  uint8\n",
            " 12  SAFETY_EQUIPMENT_Pads Only (In-Line Skater/Bicyclist)     81691 non-null  uint8\n",
            " 13  PERSON_SEX_F                                              81691 non-null  uint8\n",
            " 14  BOROUGH_BRONX                                             81691 non-null  uint8\n",
            " 15  BOROUGH_BROOKLYN                                          81691 non-null  uint8\n",
            " 16  BOROUGH_QUEENS                                            81691 non-null  uint8\n",
            " 17  BOROUGH_STATEN ISLAND                                     81691 non-null  uint8\n",
            " 18  TRAVEL_DIRECTION_East                                     81691 non-null  uint8\n",
            " 19  TRAVEL_DIRECTION_Northwest                                81691 non-null  uint8\n",
            " 20  TRAVEL_DIRECTION_South                                    81691 non-null  uint8\n",
            " 21  TRAVEL_DIRECTION_Southeast                                81691 non-null  uint8\n",
            " 22  TRAVEL_DIRECTION_Southwest                                81691 non-null  uint8\n",
            " 23  TRAVEL_DIRECTION_West                                     81691 non-null  uint8\n",
            " 24  DRIVER_LICENSE_STATUS_Permit                              81691 non-null  uint8\n",
            " 25  DRIVER_LICENSE_STATUS_Unlicensed                          81691 non-null  uint8\n",
            " 26  PRE_CRASH_Going Straight Ahead                            81691 non-null  uint8\n",
            " 27  PRE_CRASH_Making Left Turn                                81691 non-null  uint8\n",
            " 28  PRE_CRASH_Making Left Turn on Red                         81691 non-null  uint8\n",
            " 29  PRE_CRASH_Making U Turn                                   81691 non-null  uint8\n",
            " 30  PRE_CRASH_Slowing or Stopping                             81691 non-null  uint8\n",
            " 31  PRE_CRASH_Starting in Traffic                             81691 non-null  uint8\n",
            " 32  PRE_CRASH_Stopped in Traffic                              81691 non-null  uint8\n",
            "dtypes: int64(2), int8(1), uint8(30)\n",
            "memory usage: 4.3 MB\n"
          ]
        }
      ],
      "source": [
        "df.info()"
      ]
    },
    {
      "cell_type": "markdown",
      "source": [
        "Data Training\n",
        "Setting 0.1 test size to minize the chance of overfitting"
      ],
      "metadata": {
        "id": "7ph3jUyQpEO3"
      }
    },
    {
      "cell_type": "code",
      "execution_count": null,
      "metadata": {
        "id": "wUvjurPuPxXH"
      },
      "outputs": [],
      "source": [
        "from sklearn.model_selection import train_test_split\n",
        "\n",
        "X = df.drop('CASUALTY', axis=1)\n",
        "y = df.CASUALTY\n",
        "\n",
        "X_train, X_test, y_train, y_test = train_test_split(X, y, test_size=0.1, random_state=42)"
      ]
    },
    {
      "cell_type": "code",
      "execution_count": null,
      "metadata": {
        "id": "Tazs8IeBtSQw"
      },
      "outputs": [],
      "source": [
        "from sklearn.metrics import accuracy_score, confusion_matrix, classification_report\n",
        "\n",
        "def print_score(clf, X_train, y_train, X_test, y_test, train=True):\n",
        "    if train:\n",
        "        pred = clf.predict(X_train)\n",
        "        clf_report = pd.DataFrame(classification_report(y_train, pred, output_dict=True))\n",
        "        print(\"Train Result:\\n================================================\")\n",
        "        print(f\"Accuracy Score: {accuracy_score(y_train, pred) * 100:.2f}%\")\n",
        "        print(\"_______________________________________________\")\n",
        "        print(f\"CLASSIFICATION REPORT:\\n{clf_report}\")\n",
        "        print(\"_______________________________________________\")\n",
        "        print(f\"Confusion Matrix: \\n {confusion_matrix(y_train, pred)}\\n\")\n",
        "\n",
        "    elif train==False:\n",
        "        pred = clf.predict(X_test)\n",
        "        clf_report = pd.DataFrame(classification_report(y_test, pred, output_dict=True))\n",
        "        print(\"Test Result:\\n================================================\")\n",
        "        print(f\"Accuracy Score: {accuracy_score(y_test, pred) * 100:.2f}%\")\n",
        "        print(\"_______________________________________________\")\n",
        "        print(f\"CLASSIFICATION REPORT:\\n{clf_report}\")\n",
        "        print(\"_______________________________________________\")\n",
        "        print(f\"Confusion Matrix: \\n {confusion_matrix(y_test, pred)}\\n\")"
      ]
    },
    {
      "cell_type": "markdown",
      "source": [
        "#3) Machine Learning Model"
      ],
      "metadata": {
        "id": "roxSdW9MpHDK"
      }
    },
    {
      "cell_type": "markdown",
      "metadata": {
        "id": "jXIPW6SldGMF"
      },
      "source": [
        "Decision Tree"
      ]
    },
    {
      "cell_type": "code",
      "execution_count": null,
      "metadata": {
        "colab": {
          "base_uri": "https://localhost:8080/"
        },
        "id": "3wFWxfftQ5zw",
        "outputId": "b1bf19e4-70ac-4905-bacb-b2e8df5f4f7a"
      },
      "outputs": [
        {
          "output_type": "stream",
          "name": "stdout",
          "text": [
            "Train Result:\n",
            "================================================\n",
            "Accuracy Score: 76.30%\n",
            "_______________________________________________\n",
            "CLASSIFICATION REPORT:\n",
            "                      0             1  accuracy     macro avg  weighted avg\n",
            "precision      0.757309      0.806070  0.763034      0.781690      0.772368\n",
            "recall         0.967057      0.306439  0.763034      0.636748      0.763034\n",
            "f1-score       0.849426      0.444062  0.763034      0.646744      0.724235\n",
            "support    50815.000000  22706.000000  0.763034  73521.000000  73521.000000\n",
            "_______________________________________________\n",
            "Confusion Matrix: \n",
            " [[49141  1674]\n",
            " [15748  6958]]\n",
            "\n",
            "Test Result:\n",
            "================================================\n",
            "Accuracy Score: 66.07%\n",
            "_______________________________________________\n",
            "CLASSIFICATION REPORT:\n",
            "                     0            1  accuracy    macro avg  weighted avg\n",
            "precision     0.697723     0.410816   0.66071     0.554270      0.606981\n",
            "recall        0.888829     0.167570   0.66071     0.528199      0.660710\n",
            "f1-score      0.781767     0.238043   0.66071     0.509905      0.609798\n",
            "support    5586.000000  2584.000000   0.66071  8170.000000   8170.000000\n",
            "_______________________________________________\n",
            "Confusion Matrix: \n",
            " [[4965  621]\n",
            " [2151  433]]\n",
            "\n"
          ]
        }
      ],
      "source": [
        "from sklearn.tree import DecisionTreeClassifier\n",
        "\n",
        "tree_clf = DecisionTreeClassifier(random_state=42)\n",
        "tree_clf.fit(X_train, y_train)\n",
        "\n",
        "print_score(tree_clf, X_train, y_train, X_test, y_test, train=True)\n",
        "print_score(tree_clf, X_train, y_train, X_test, y_test, train=False)"
      ]
    },
    {
      "cell_type": "code",
      "execution_count": null,
      "metadata": {
        "id": "fNOhTz1pdZ5n"
      },
      "outputs": [],
      "source": []
    },
    {
      "cell_type": "markdown",
      "metadata": {
        "id": "v7YODTcpdaw8"
      },
      "source": [
        "Tree visualization"
      ]
    },
    {
      "cell_type": "code",
      "execution_count": null,
      "metadata": {
        "colab": {
          "base_uri": "https://localhost:8080/",
          "height": 53
        },
        "id": "wbh7FvMQtp9p",
        "outputId": "d29cae32-21b6-4845-cc4d-ace8fb8bed3b"
      },
      "outputs": [
        {
          "output_type": "execute_result",
          "data": {
            "text/plain": [
              "'from IPython.display import Image\\nfrom six import StringIO\\nfrom sklearn.tree import export_graphviz\\nimport pydot\\n\\nfeatures = list(df.columns)\\nfeatures.remove(\"casualty\")'"
            ],
            "application/vnd.google.colaboratory.intrinsic+json": {
              "type": "string"
            }
          },
          "metadata": {},
          "execution_count": 27
        }
      ],
      "source": [
        "\"\"\"from IPython.display import Image\n",
        "from six import StringIO\n",
        "from sklearn.tree import export_graphviz\n",
        "import pydot\n",
        "\n",
        "features = list(df.columns)\n",
        "features.remove(\"casualty\")\"\"\""
      ]
    },
    {
      "cell_type": "code",
      "execution_count": null,
      "metadata": {
        "colab": {
          "base_uri": "https://localhost:8080/",
          "height": 53
        },
        "id": "iKQF2wiCfHCO",
        "outputId": "6d6ac749-f8dc-4f63-8403-3490fe7a900b"
      },
      "outputs": [
        {
          "output_type": "execute_result",
          "data": {
            "text/plain": [
              "'dot_data = StringIO()\\nexport_graphviz(tree_clf, out_file=dot_data, feature_names=features, filled=True)\\ngraph = pydot.graph_from_dot_data(dot_data.getvalue())\\nImage(graph[0].create_png())'"
            ],
            "application/vnd.google.colaboratory.intrinsic+json": {
              "type": "string"
            }
          },
          "metadata": {},
          "execution_count": 28
        }
      ],
      "source": [
        "\"\"\"dot_data = StringIO()\n",
        "export_graphviz(tree_clf, out_file=dot_data, feature_names=features, filled=True)\n",
        "graph = pydot.graph_from_dot_data(dot_data.getvalue())\n",
        "Image(graph[0].create_png())\"\"\""
      ]
    },
    {
      "cell_type": "markdown",
      "metadata": {
        "id": "6XA-gWlRe7qg"
      },
      "source": [
        "Random Forest"
      ]
    },
    {
      "cell_type": "code",
      "execution_count": null,
      "metadata": {
        "colab": {
          "base_uri": "https://localhost:8080/"
        },
        "id": "7_Jr1oySdjIL",
        "outputId": "6f8346d3-9e6a-41d1-a390-06130ec5f8ed"
      },
      "outputs": [
        {
          "output_type": "stream",
          "name": "stdout",
          "text": [
            "Train Result:\n",
            "================================================\n",
            "Accuracy Score: 76.30%\n",
            "_______________________________________________\n",
            "CLASSIFICATION REPORT:\n",
            "                      0             1  accuracy     macro avg  weighted avg\n",
            "precision      0.764621      0.753333   0.76302      0.758977      0.761135\n",
            "recall         0.949385      0.345944   0.76302      0.647664      0.763020\n",
            "f1-score       0.847045      0.474150   0.76302      0.660597      0.731881\n",
            "support    50815.000000  22706.000000   0.76302  73521.000000  73521.000000\n",
            "_______________________________________________\n",
            "Confusion Matrix: \n",
            " [[48243  2572]\n",
            " [14851  7855]]\n",
            "\n",
            "Test Result:\n",
            "================================================\n",
            "Accuracy Score: 65.29%\n",
            "_______________________________________________\n",
            "CLASSIFICATION REPORT:\n",
            "                     0            1  accuracy    macro avg  weighted avg\n",
            "precision     0.696822     0.393581  0.652876     0.545202      0.600913\n",
            "recall        0.871464     0.180341  0.652876     0.525902      0.652876\n",
            "f1-score      0.774419     0.247346  0.652876     0.510883      0.607717\n",
            "support    5586.000000  2584.000000  0.652876  8170.000000   8170.000000\n",
            "_______________________________________________\n",
            "Confusion Matrix: \n",
            " [[4868  718]\n",
            " [2118  466]]\n",
            "\n"
          ]
        }
      ],
      "source": [
        "from sklearn.ensemble import RandomForestClassifier\n",
        "\n",
        "rf_clf = RandomForestClassifier(n_estimators=100)\n",
        "rf_clf.fit(X_train, y_train)\n",
        "\n",
        "print_score(rf_clf, X_train, y_train, X_test, y_test, train=True)\n",
        "print_score(rf_clf, X_train, y_train, X_test, y_test, train=False)"
      ]
    },
    {
      "cell_type": "code",
      "source": [
        "import plotly.graph_objs as go\n",
        "import plotly.offline as py\n",
        "from sklearn.ensemble import RandomForestClassifier\n",
        "\n",
        "# Create and fit the RandomForestClassifier\n",
        "rf_clf = RandomForestClassifier(n_estimators=100)\n",
        "rf_clf.fit(X_train, y_train)\n",
        "\n",
        "# Calculate feature importances\n",
        "features = X_train.columns\n",
        "importances = rf_clf.feature_importances_\n",
        "\n",
        "# Sort features and importances\n",
        "sorted_indices = importances.argsort()[::-1]  # Reverse the order to get highest importances first\n",
        "sorted_features = [features[i] for i in sorted_indices]\n",
        "sorted_importances = importances[sorted_indices]\n",
        "\n",
        "# Select top 20 features\n",
        "top_features = sorted_features[:20]\n",
        "top_importances = sorted_importances[:20]\n",
        "\n",
        "# Create a bar chart trace\n",
        "trace2 = go.Bar(\n",
        "    x=top_importances,\n",
        "    y=top_features,\n",
        "    marker=dict(\n",
        "        color=top_importances,\n",
        "        colorscale='Viridis',\n",
        "        reversescale=True\n",
        "    ),\n",
        "    name='Random Forest Feature importance',\n",
        "    orientation='h',\n",
        ")\n",
        "\n",
        "# Define layout\n",
        "layout = dict(\n",
        "    title='Top 20 Feature Importances',\n",
        "    width=700,\n",
        "    height=700,  # Adjust the height to fit the top 20 features comfortably\n",
        "    yaxis=dict(\n",
        "        showgrid=False,\n",
        "        showline=False,\n",
        "        showticklabels=True,\n",
        "        autorange=\"reversed\"\n",
        "    ),\n",
        "    margin=dict(\n",
        "        l=300,\n",
        "    ),\n",
        ")\n",
        "\n",
        "# Create a figure and update layout\n",
        "fig1 = go.Figure(data=[trace2])\n",
        "fig1['layout'].update(layout)\n",
        "\n",
        "# Display the plot\n",
        "py.iplot(fig1, filename='top_feature_importance_plot')\n",
        "\n"
      ],
      "metadata": {
        "colab": {
          "base_uri": "https://localhost:8080/",
          "height": 717
        },
        "id": "_38mKSPOw5iS",
        "outputId": "262a85d5-956d-4d81-e6d5-2d6c5d48d683"
      },
      "execution_count": null,
      "outputs": [
        {
          "output_type": "display_data",
          "data": {
            "text/html": [
              "<html>\n",
              "<head><meta charset=\"utf-8\" /></head>\n",
              "<body>\n",
              "    <div>            <script src=\"https://cdnjs.cloudflare.com/ajax/libs/mathjax/2.7.5/MathJax.js?config=TeX-AMS-MML_SVG\"></script><script type=\"text/javascript\">if (window.MathJax && window.MathJax.Hub && window.MathJax.Hub.Config) {window.MathJax.Hub.Config({SVG: {font: \"STIX-Web\"}});}</script>                <script type=\"text/javascript\">window.PlotlyConfig = {MathJaxConfig: 'local'};</script>\n",
              "        <script charset=\"utf-8\" src=\"https://cdn.plot.ly/plotly-2.24.1.min.js\"></script>                <div id=\"abe7adff-c56d-437c-abf6-a506a8a4ec9a\" class=\"plotly-graph-div\" style=\"height:700px; width:700px;\"></div>            <script type=\"text/javascript\">                                    window.PLOTLYENV=window.PLOTLYENV || {};                                    if (document.getElementById(\"abe7adff-c56d-437c-abf6-a506a8a4ec9a\")) {                    Plotly.newPlot(                        \"abe7adff-c56d-437c-abf6-a506a8a4ec9a\",                        [{\"marker\":{\"color\":[0.5123705667875613,0.04428462158304963,0.04424545217718574,0.040034784864943676,0.02901112741987893,0.02607814245931843,0.02573875451976268,0.025503245857625947,0.02524823287860357,0.02378359142261703,0.021969456640790325,0.021350546775342313,0.021297012262318362,0.018818170590306788,0.013761399250309675,0.013732332145915209,0.011079279119529058,0.010432835336421961,0.0100108645192447,0.00980806086169344],\"colorscale\":[[0.0,\"#440154\"],[0.1111111111111111,\"#482878\"],[0.2222222222222222,\"#3e4989\"],[0.3333333333333333,\"#31688e\"],[0.4444444444444444,\"#26828e\"],[0.5555555555555556,\"#1f9e89\"],[0.6666666666666666,\"#35b779\"],[0.7777777777777778,\"#6ece58\"],[0.8888888888888888,\"#b5de2b\"],[1.0,\"#fde725\"]],\"reversescale\":true},\"name\":\"Random Forest Feature importance\",\"orientation\":\"h\",\"x\":[0.5123705667875613,0.04428462158304963,0.04424545217718574,0.040034784864943676,0.02901112741987893,0.02607814245931843,0.02573875451976268,0.025503245857625947,0.02524823287860357,0.02378359142261703,0.021969456640790325,0.021350546775342313,0.021297012262318362,0.018818170590306788,0.013761399250309675,0.013732332145915209,0.011079279119529058,0.010432835336421961,0.0100108645192447,0.00980806086169344],\"y\":[\"VEHICLE_AGE\",\"PRE_CRASH_Going Straight Ahead\",\"PRE_CRASH_Making Left Turn\",\"PERSON_SEX_F\",\"SAFETY_EQUIPMENT_Lap Belt & Harness\",\"TRAVEL_DIRECTION_West\",\"PERSONAL_VEHICLE\",\"TRAVEL_DIRECTION_South\",\"TRAVEL_DIRECTION_East\",\"BOROUGH_QUEENS\",\"SAFETY_EQUIPMENT_Lap Belt\",\"BOROUGH_BRONX\",\"BOROUGH_BROOKLYN\",\"SAFETY_EQUIPMENT_Helmet (Motorcycle Only)\",\"PRE_CRASH_Stopped in Traffic\",\"DRIVER_LICENSE_STATUS_Unlicensed\",\"BOROUGH_STATEN ISLAND\",\"DRIVER_LICENSE_STATUS_Permit\",\"PRE_CRASH_Slowing or Stopping\",\"SAFETY_EQUIPMENT_Air Bag Deployed\\u002fLap Belt\\u002fHarness\"],\"type\":\"bar\"}],                        {\"height\":700,\"margin\":{\"l\":300},\"template\":{\"data\":{\"barpolar\":[{\"marker\":{\"line\":{\"color\":\"#E5ECF6\",\"width\":0.5},\"pattern\":{\"fillmode\":\"overlay\",\"size\":10,\"solidity\":0.2}},\"type\":\"barpolar\"}],\"bar\":[{\"error_x\":{\"color\":\"#2a3f5f\"},\"error_y\":{\"color\":\"#2a3f5f\"},\"marker\":{\"line\":{\"color\":\"#E5ECF6\",\"width\":0.5},\"pattern\":{\"fillmode\":\"overlay\",\"size\":10,\"solidity\":0.2}},\"type\":\"bar\"}],\"carpet\":[{\"aaxis\":{\"endlinecolor\":\"#2a3f5f\",\"gridcolor\":\"white\",\"linecolor\":\"white\",\"minorgridcolor\":\"white\",\"startlinecolor\":\"#2a3f5f\"},\"baxis\":{\"endlinecolor\":\"#2a3f5f\",\"gridcolor\":\"white\",\"linecolor\":\"white\",\"minorgridcolor\":\"white\",\"startlinecolor\":\"#2a3f5f\"},\"type\":\"carpet\"}],\"choropleth\":[{\"colorbar\":{\"outlinewidth\":0,\"ticks\":\"\"},\"type\":\"choropleth\"}],\"contourcarpet\":[{\"colorbar\":{\"outlinewidth\":0,\"ticks\":\"\"},\"type\":\"contourcarpet\"}],\"contour\":[{\"colorbar\":{\"outlinewidth\":0,\"ticks\":\"\"},\"colorscale\":[[0.0,\"#0d0887\"],[0.1111111111111111,\"#46039f\"],[0.2222222222222222,\"#7201a8\"],[0.3333333333333333,\"#9c179e\"],[0.4444444444444444,\"#bd3786\"],[0.5555555555555556,\"#d8576b\"],[0.6666666666666666,\"#ed7953\"],[0.7777777777777778,\"#fb9f3a\"],[0.8888888888888888,\"#fdca26\"],[1.0,\"#f0f921\"]],\"type\":\"contour\"}],\"heatmapgl\":[{\"colorbar\":{\"outlinewidth\":0,\"ticks\":\"\"},\"colorscale\":[[0.0,\"#0d0887\"],[0.1111111111111111,\"#46039f\"],[0.2222222222222222,\"#7201a8\"],[0.3333333333333333,\"#9c179e\"],[0.4444444444444444,\"#bd3786\"],[0.5555555555555556,\"#d8576b\"],[0.6666666666666666,\"#ed7953\"],[0.7777777777777778,\"#fb9f3a\"],[0.8888888888888888,\"#fdca26\"],[1.0,\"#f0f921\"]],\"type\":\"heatmapgl\"}],\"heatmap\":[{\"colorbar\":{\"outlinewidth\":0,\"ticks\":\"\"},\"colorscale\":[[0.0,\"#0d0887\"],[0.1111111111111111,\"#46039f\"],[0.2222222222222222,\"#7201a8\"],[0.3333333333333333,\"#9c179e\"],[0.4444444444444444,\"#bd3786\"],[0.5555555555555556,\"#d8576b\"],[0.6666666666666666,\"#ed7953\"],[0.7777777777777778,\"#fb9f3a\"],[0.8888888888888888,\"#fdca26\"],[1.0,\"#f0f921\"]],\"type\":\"heatmap\"}],\"histogram2dcontour\":[{\"colorbar\":{\"outlinewidth\":0,\"ticks\":\"\"},\"colorscale\":[[0.0,\"#0d0887\"],[0.1111111111111111,\"#46039f\"],[0.2222222222222222,\"#7201a8\"],[0.3333333333333333,\"#9c179e\"],[0.4444444444444444,\"#bd3786\"],[0.5555555555555556,\"#d8576b\"],[0.6666666666666666,\"#ed7953\"],[0.7777777777777778,\"#fb9f3a\"],[0.8888888888888888,\"#fdca26\"],[1.0,\"#f0f921\"]],\"type\":\"histogram2dcontour\"}],\"histogram2d\":[{\"colorbar\":{\"outlinewidth\":0,\"ticks\":\"\"},\"colorscale\":[[0.0,\"#0d0887\"],[0.1111111111111111,\"#46039f\"],[0.2222222222222222,\"#7201a8\"],[0.3333333333333333,\"#9c179e\"],[0.4444444444444444,\"#bd3786\"],[0.5555555555555556,\"#d8576b\"],[0.6666666666666666,\"#ed7953\"],[0.7777777777777778,\"#fb9f3a\"],[0.8888888888888888,\"#fdca26\"],[1.0,\"#f0f921\"]],\"type\":\"histogram2d\"}],\"histogram\":[{\"marker\":{\"pattern\":{\"fillmode\":\"overlay\",\"size\":10,\"solidity\":0.2}},\"type\":\"histogram\"}],\"mesh3d\":[{\"colorbar\":{\"outlinewidth\":0,\"ticks\":\"\"},\"type\":\"mesh3d\"}],\"parcoords\":[{\"line\":{\"colorbar\":{\"outlinewidth\":0,\"ticks\":\"\"}},\"type\":\"parcoords\"}],\"pie\":[{\"automargin\":true,\"type\":\"pie\"}],\"scatter3d\":[{\"line\":{\"colorbar\":{\"outlinewidth\":0,\"ticks\":\"\"}},\"marker\":{\"colorbar\":{\"outlinewidth\":0,\"ticks\":\"\"}},\"type\":\"scatter3d\"}],\"scattercarpet\":[{\"marker\":{\"colorbar\":{\"outlinewidth\":0,\"ticks\":\"\"}},\"type\":\"scattercarpet\"}],\"scattergeo\":[{\"marker\":{\"colorbar\":{\"outlinewidth\":0,\"ticks\":\"\"}},\"type\":\"scattergeo\"}],\"scattergl\":[{\"marker\":{\"colorbar\":{\"outlinewidth\":0,\"ticks\":\"\"}},\"type\":\"scattergl\"}],\"scattermapbox\":[{\"marker\":{\"colorbar\":{\"outlinewidth\":0,\"ticks\":\"\"}},\"type\":\"scattermapbox\"}],\"scatterpolargl\":[{\"marker\":{\"colorbar\":{\"outlinewidth\":0,\"ticks\":\"\"}},\"type\":\"scatterpolargl\"}],\"scatterpolar\":[{\"marker\":{\"colorbar\":{\"outlinewidth\":0,\"ticks\":\"\"}},\"type\":\"scatterpolar\"}],\"scatter\":[{\"fillpattern\":{\"fillmode\":\"overlay\",\"size\":10,\"solidity\":0.2},\"type\":\"scatter\"}],\"scatterternary\":[{\"marker\":{\"colorbar\":{\"outlinewidth\":0,\"ticks\":\"\"}},\"type\":\"scatterternary\"}],\"surface\":[{\"colorbar\":{\"outlinewidth\":0,\"ticks\":\"\"},\"colorscale\":[[0.0,\"#0d0887\"],[0.1111111111111111,\"#46039f\"],[0.2222222222222222,\"#7201a8\"],[0.3333333333333333,\"#9c179e\"],[0.4444444444444444,\"#bd3786\"],[0.5555555555555556,\"#d8576b\"],[0.6666666666666666,\"#ed7953\"],[0.7777777777777778,\"#fb9f3a\"],[0.8888888888888888,\"#fdca26\"],[1.0,\"#f0f921\"]],\"type\":\"surface\"}],\"table\":[{\"cells\":{\"fill\":{\"color\":\"#EBF0F8\"},\"line\":{\"color\":\"white\"}},\"header\":{\"fill\":{\"color\":\"#C8D4E3\"},\"line\":{\"color\":\"white\"}},\"type\":\"table\"}]},\"layout\":{\"annotationdefaults\":{\"arrowcolor\":\"#2a3f5f\",\"arrowhead\":0,\"arrowwidth\":1},\"autotypenumbers\":\"strict\",\"coloraxis\":{\"colorbar\":{\"outlinewidth\":0,\"ticks\":\"\"}},\"colorscale\":{\"diverging\":[[0,\"#8e0152\"],[0.1,\"#c51b7d\"],[0.2,\"#de77ae\"],[0.3,\"#f1b6da\"],[0.4,\"#fde0ef\"],[0.5,\"#f7f7f7\"],[0.6,\"#e6f5d0\"],[0.7,\"#b8e186\"],[0.8,\"#7fbc41\"],[0.9,\"#4d9221\"],[1,\"#276419\"]],\"sequential\":[[0.0,\"#0d0887\"],[0.1111111111111111,\"#46039f\"],[0.2222222222222222,\"#7201a8\"],[0.3333333333333333,\"#9c179e\"],[0.4444444444444444,\"#bd3786\"],[0.5555555555555556,\"#d8576b\"],[0.6666666666666666,\"#ed7953\"],[0.7777777777777778,\"#fb9f3a\"],[0.8888888888888888,\"#fdca26\"],[1.0,\"#f0f921\"]],\"sequentialminus\":[[0.0,\"#0d0887\"],[0.1111111111111111,\"#46039f\"],[0.2222222222222222,\"#7201a8\"],[0.3333333333333333,\"#9c179e\"],[0.4444444444444444,\"#bd3786\"],[0.5555555555555556,\"#d8576b\"],[0.6666666666666666,\"#ed7953\"],[0.7777777777777778,\"#fb9f3a\"],[0.8888888888888888,\"#fdca26\"],[1.0,\"#f0f921\"]]},\"colorway\":[\"#636efa\",\"#EF553B\",\"#00cc96\",\"#ab63fa\",\"#FFA15A\",\"#19d3f3\",\"#FF6692\",\"#B6E880\",\"#FF97FF\",\"#FECB52\"],\"font\":{\"color\":\"#2a3f5f\"},\"geo\":{\"bgcolor\":\"white\",\"lakecolor\":\"white\",\"landcolor\":\"#E5ECF6\",\"showlakes\":true,\"showland\":true,\"subunitcolor\":\"white\"},\"hoverlabel\":{\"align\":\"left\"},\"hovermode\":\"closest\",\"mapbox\":{\"style\":\"light\"},\"paper_bgcolor\":\"white\",\"plot_bgcolor\":\"#E5ECF6\",\"polar\":{\"angularaxis\":{\"gridcolor\":\"white\",\"linecolor\":\"white\",\"ticks\":\"\"},\"bgcolor\":\"#E5ECF6\",\"radialaxis\":{\"gridcolor\":\"white\",\"linecolor\":\"white\",\"ticks\":\"\"}},\"scene\":{\"xaxis\":{\"backgroundcolor\":\"#E5ECF6\",\"gridcolor\":\"white\",\"gridwidth\":2,\"linecolor\":\"white\",\"showbackground\":true,\"ticks\":\"\",\"zerolinecolor\":\"white\"},\"yaxis\":{\"backgroundcolor\":\"#E5ECF6\",\"gridcolor\":\"white\",\"gridwidth\":2,\"linecolor\":\"white\",\"showbackground\":true,\"ticks\":\"\",\"zerolinecolor\":\"white\"},\"zaxis\":{\"backgroundcolor\":\"#E5ECF6\",\"gridcolor\":\"white\",\"gridwidth\":2,\"linecolor\":\"white\",\"showbackground\":true,\"ticks\":\"\",\"zerolinecolor\":\"white\"}},\"shapedefaults\":{\"line\":{\"color\":\"#2a3f5f\"}},\"ternary\":{\"aaxis\":{\"gridcolor\":\"white\",\"linecolor\":\"white\",\"ticks\":\"\"},\"baxis\":{\"gridcolor\":\"white\",\"linecolor\":\"white\",\"ticks\":\"\"},\"bgcolor\":\"#E5ECF6\",\"caxis\":{\"gridcolor\":\"white\",\"linecolor\":\"white\",\"ticks\":\"\"}},\"title\":{\"x\":0.05},\"xaxis\":{\"automargin\":true,\"gridcolor\":\"white\",\"linecolor\":\"white\",\"ticks\":\"\",\"title\":{\"standoff\":15},\"zerolinecolor\":\"white\",\"zerolinewidth\":2},\"yaxis\":{\"automargin\":true,\"gridcolor\":\"white\",\"linecolor\":\"white\",\"ticks\":\"\",\"title\":{\"standoff\":15},\"zerolinecolor\":\"white\",\"zerolinewidth\":2}}},\"title\":{\"text\":\"Top 20 Feature Importances\"},\"width\":700,\"yaxis\":{\"autorange\":\"reversed\",\"showgrid\":false,\"showline\":false,\"showticklabels\":true}},                        {\"responsive\": true}                    ).then(function(){\n",
              "                            \n",
              "var gd = document.getElementById('abe7adff-c56d-437c-abf6-a506a8a4ec9a');\n",
              "var x = new MutationObserver(function (mutations, observer) {{\n",
              "        var display = window.getComputedStyle(gd).display;\n",
              "        if (!display || display === 'none') {{\n",
              "            console.log([gd, 'removed!']);\n",
              "            Plotly.purge(gd);\n",
              "            observer.disconnect();\n",
              "        }}\n",
              "}});\n",
              "\n",
              "// Listen for the removal of the full notebook cells\n",
              "var notebookContainer = gd.closest('#notebook-container');\n",
              "if (notebookContainer) {{\n",
              "    x.observe(notebookContainer, {childList: true});\n",
              "}}\n",
              "\n",
              "// Listen for the clearing of the current output cell\n",
              "var outputEl = gd.closest('.output');\n",
              "if (outputEl) {{\n",
              "    x.observe(outputEl, {childList: true});\n",
              "}}\n",
              "\n",
              "                        })                };                            </script>        </div>\n",
              "</body>\n",
              "</html>"
            ]
          },
          "metadata": {}
        }
      ]
    },
    {
      "cell_type": "code",
      "source": [
        "print(top_features)"
      ],
      "metadata": {
        "colab": {
          "base_uri": "https://localhost:8080/"
        },
        "id": "_RCLG_G3YFpB",
        "outputId": "3d647ba5-d905-41ad-aed5-275fea82e4e2"
      },
      "execution_count": null,
      "outputs": [
        {
          "output_type": "stream",
          "name": "stdout",
          "text": [
            "['VEHICLE_AGE', 'PRE_CRASH_Going Straight Ahead', 'PRE_CRASH_Making Left Turn', 'PERSON_SEX_F', 'SAFETY_EQUIPMENT_Lap Belt & Harness', 'TRAVEL_DIRECTION_West', 'PERSONAL_VEHICLE', 'TRAVEL_DIRECTION_South', 'TRAVEL_DIRECTION_East', 'BOROUGH_QUEENS', 'SAFETY_EQUIPMENT_Lap Belt', 'BOROUGH_BRONX', 'BOROUGH_BROOKLYN', 'SAFETY_EQUIPMENT_Helmet (Motorcycle Only)', 'PRE_CRASH_Stopped in Traffic', 'DRIVER_LICENSE_STATUS_Unlicensed', 'BOROUGH_STATEN ISLAND', 'DRIVER_LICENSE_STATUS_Permit', 'PRE_CRASH_Slowing or Stopping', 'SAFETY_EQUIPMENT_Air Bag Deployed/Lap Belt/Harness']\n"
          ]
        }
      ]
    },
    {
      "cell_type": "markdown",
      "source": [
        "Logistic Regression"
      ],
      "metadata": {
        "id": "A-TLfZkRw6Yq"
      }
    },
    {
      "cell_type": "code",
      "execution_count": null,
      "metadata": {
        "colab": {
          "base_uri": "https://localhost:8080/"
        },
        "id": "yD6hCNVaVpIr",
        "outputId": "7148d8a8-5fb0-49b2-ba10-5bbe60c198bd"
      },
      "outputs": [
        {
          "output_type": "stream",
          "name": "stderr",
          "text": [
            "/usr/local/lib/python3.10/dist-packages/sklearn/linear_model/_logistic.py:458: ConvergenceWarning:\n",
            "\n",
            "lbfgs failed to converge (status=1):\n",
            "STOP: TOTAL NO. of ITERATIONS REACHED LIMIT.\n",
            "\n",
            "Increase the number of iterations (max_iter) or scale the data as shown in:\n",
            "    https://scikit-learn.org/stable/modules/preprocessing.html\n",
            "Please also refer to the documentation for alternative solver options:\n",
            "    https://scikit-learn.org/stable/modules/linear_model.html#logistic-regression\n",
            "\n"
          ]
        },
        {
          "output_type": "stream",
          "name": "stdout",
          "text": [
            "Training Accuracy: 0.6976\n",
            "Training Precision: 0.6389\n",
            "Training Recall: 0.0479\n",
            "Training F1 Score: 0.0891\n",
            "\n",
            "Test Accuracy: 0.6905\n",
            "Test Precision: 0.6410\n",
            "Test Recall: 0.0484\n",
            "Test F1 Score: 0.0900\n",
            "\n",
            "Train Result:\n",
            "================================================\n",
            "Accuracy Score: 69.76%\n",
            "_______________________________________________\n",
            "CLASSIFICATION REPORT:\n",
            "                      0             1  accuracy     macro avg  weighted avg\n",
            "precision      0.698989      0.638873  0.697597      0.668931      0.680423\n",
            "recall         0.987897      0.047917  0.697597      0.517907      0.697597\n",
            "f1-score       0.818703      0.089147  0.697597      0.453925      0.593389\n",
            "support    50815.000000  22706.000000  0.697597  73521.000000  73521.000000\n",
            "_______________________________________________\n",
            "Confusion Matrix: \n",
            " [[50200   615]\n",
            " [21618  1088]]\n",
            "\n",
            "Test Result:\n",
            "================================================\n",
            "Accuracy Score: 69.05%\n",
            "_______________________________________________\n",
            "CLASSIFICATION REPORT:\n",
            "                     0            1  accuracy    macro avg  weighted avg\n",
            "precision     0.691661     0.641026  0.690453     0.666344      0.675646\n",
            "recall        0.987469     0.048375  0.690453     0.517922      0.690453\n",
            "f1-score      0.813509     0.089960  0.690453     0.451735      0.584666\n",
            "support    5586.000000  2584.000000  0.690453  8170.000000   8170.000000\n",
            "_______________________________________________\n",
            "Confusion Matrix: \n",
            " [[5516   70]\n",
            " [2459  125]]\n",
            "\n"
          ]
        }
      ],
      "source": [
        "from sklearn.linear_model import LogisticRegression\n",
        "from sklearn.metrics import accuracy_score, precision_score, recall_score, f1_score\n",
        "\n",
        "\n",
        "# Create the logistic regression classifier\n",
        "logreg_clf = LogisticRegression()\n",
        "\n",
        "logreg_clf.fit(X_train, y_train)\n",
        "\n",
        "# Function to print scores\n",
        "def print_scores(y_true, y_pred, prefix):\n",
        "    print(f\"{prefix} Accuracy: {accuracy_score(y_true, y_pred):.4f}\")\n",
        "    print(f\"{prefix} Precision: {precision_score(y_true, y_pred):.4f}\")\n",
        "    print(f\"{prefix} Recall: {recall_score(y_true, y_pred):.4f}\")\n",
        "    print(f\"{prefix} F1 Score: {f1_score(y_true, y_pred):.4f}\")\n",
        "    print()\n",
        "\n",
        "# Evaluate and print scores for the training set\n",
        "y_train_pred = logreg_clf.predict(X_train)\n",
        "print_scores(y_train, y_train_pred, \"Training\")\n",
        "\n",
        "# Evaluate and print scores for the test set\n",
        "y_test_pred = logreg_clf.predict(X_test)\n",
        "print_scores(y_test, y_test_pred, \"Test\")\n",
        "\n",
        "print_score(logreg_clf, X_train, y_train, X_test, y_test, train=True)\n",
        "print_score(logreg_clf, X_train, y_train, X_test, y_test, train=False)"
      ]
    },
    {
      "cell_type": "code",
      "execution_count": null,
      "metadata": {
        "colab": {
          "base_uri": "https://localhost:8080/"
        },
        "id": "G-l9ugNu_Ip2",
        "outputId": "f0d0c826-92f1-4f02-a188-a47fa1b6e53a"
      },
      "outputs": [
        {
          "output_type": "stream",
          "name": "stdout",
          "text": [
            "Requirement already satisfied: xgboost in /usr/local/lib/python3.10/dist-packages (1.7.6)\n",
            "Requirement already satisfied: numpy in /usr/local/lib/python3.10/dist-packages (from xgboost) (1.23.5)\n",
            "Requirement already satisfied: scipy in /usr/local/lib/python3.10/dist-packages (from xgboost) (1.10.1)\n"
          ]
        }
      ],
      "source": [
        "pip install xgboost\n"
      ]
    },
    {
      "cell_type": "code",
      "execution_count": null,
      "metadata": {
        "colab": {
          "base_uri": "https://localhost:8080/"
        },
        "id": "iaf71Ucl_eSe",
        "outputId": "a6195ab3-8667-4a1a-a85a-488df516593a"
      },
      "outputs": [
        {
          "output_type": "stream",
          "name": "stdout",
          "text": [
            "Train Result:\n",
            "================================================\n",
            "Accuracy Score: 71.14%\n",
            "_______________________________________________\n",
            "CLASSIFICATION REPORT:\n",
            "                      0             1  accuracy     macro avg  weighted avg\n",
            "precision      0.712440      0.692926  0.711416      0.702683      0.706413\n",
            "recall         0.976680      0.117766  0.711416      0.547223      0.711416\n",
            "f1-score       0.823892      0.201318  0.711416      0.512605      0.631618\n",
            "support    50815.000000  22706.000000  0.711416  73521.000000  73521.000000\n",
            "_______________________________________________\n",
            "Confusion Matrix: \n",
            " [[49630  1185]\n",
            " [20032  2674]]\n",
            "\n",
            "Test Result:\n",
            "================================================\n",
            "Accuracy Score: 69.06%\n",
            "_______________________________________________\n",
            "CLASSIFICATION REPORT:\n",
            "                     0            1  accuracy    macro avg  weighted avg\n",
            "precision     0.697698     0.564220  0.690575     0.630959      0.655482\n",
            "recall        0.965986     0.095201  0.690575     0.530594      0.690575\n",
            "f1-score      0.810210     0.162914  0.690575     0.486562      0.605484\n",
            "support    5586.000000  2584.000000  0.690575  8170.000000   8170.000000\n",
            "_______________________________________________\n",
            "Confusion Matrix: \n",
            " [[5396  190]\n",
            " [2338  246]]\n",
            "\n"
          ]
        }
      ],
      "source": [
        "import xgboost as xgb\n",
        "\n",
        "# Create the XGBoost classifier\n",
        "xgb_clf = xgb.XGBClassifier(n_estimators=100, random_state=42)\n",
        "\n",
        "# Train the classifier on the training data\n",
        "xgb_clf.fit(X_train, y_train)\n",
        "\n",
        "# Function to print scores\n",
        "\n",
        "\n",
        "print_score(xgb_clf, X_train, y_train, X_test, y_test, train=True)\n",
        "print_score(xgb_clf , X_train, y_train, X_test, y_test, train=False)"
      ]
    },
    {
      "cell_type": "code",
      "source": [
        "\"\"\"#import KNeighborsClassifier\n",
        "from sklearn.neighbors import KNeighborsClassifier\n",
        "\n",
        "#Setup arrays to store training and test accuracies\n",
        "neighbors = np.arange(1,21)\n",
        "train_accuracy =np.empty(len(neighbors))\n",
        "test_accuracy = np.empty(len(neighbors))\n",
        "\n",
        "for i,k in enumerate(neighbors):\n",
        "    #Setup a knn classifier with k neighbors\n",
        "    knn = KNeighborsClassifier(n_neighbors=k)\n",
        "\n",
        "    #Fit the model\n",
        "    knn.fit(X_train, y_train)\n",
        "\n",
        "    #Compute accuracy on the training set\n",
        "    train_accuracy[i] = knn.score(X_train, y_train)\n",
        "\n",
        "    #Compute accuracy on the test set\n",
        "    test_accuracy[i] = knn.score(X_test, y_test)\"\"\""
      ],
      "metadata": {
        "id": "VYVbe2SwAsjH",
        "colab": {
          "base_uri": "https://localhost:8080/",
          "height": 125
        },
        "outputId": "e50f4d18-ec29-487b-91fd-f495c7f1e056"
      },
      "execution_count": null,
      "outputs": [
        {
          "output_type": "execute_result",
          "data": {
            "text/plain": [
              "'#import KNeighborsClassifier\\nfrom sklearn.neighbors import KNeighborsClassifier\\n\\n#Setup arrays to store training and test accuracies\\nneighbors = np.arange(1,21)\\ntrain_accuracy =np.empty(len(neighbors))\\ntest_accuracy = np.empty(len(neighbors))\\n\\nfor i,k in enumerate(neighbors):\\n    #Setup a knn classifier with k neighbors\\n    knn = KNeighborsClassifier(n_neighbors=k)\\n\\n    #Fit the model\\n    knn.fit(X_train, y_train)\\n\\n    #Compute accuracy on the training set\\n    train_accuracy[i] = knn.score(X_train, y_train)\\n\\n    #Compute accuracy on the test set\\n    test_accuracy[i] = knn.score(X_test, y_test)'"
            ],
            "application/vnd.google.colaboratory.intrinsic+json": {
              "type": "string"
            }
          },
          "metadata": {},
          "execution_count": 35
        }
      ]
    },
    {
      "cell_type": "code",
      "source": [
        "\"\"\"#Generate plot\n",
        "plt.title('k-NN Varying number of neighbors')\n",
        "plt.plot(neighbors, test_accuracy, label='Testing Accuracy')\n",
        "plt.plot(neighbors, train_accuracy, label='Training accuracy')\n",
        "plt.legend()\n",
        "plt.xlabel('Number of neighbors')\n",
        "plt.ylabel('Accuracy')\n",
        "plt.show()\"\"\""
      ],
      "metadata": {
        "colab": {
          "base_uri": "https://localhost:8080/",
          "height": 71
        },
        "id": "OBZDYHHXA6Wf",
        "outputId": "ce838177-b087-45ff-cb46-1eb946c0d86d"
      },
      "execution_count": null,
      "outputs": [
        {
          "output_type": "execute_result",
          "data": {
            "text/plain": [
              "\"#Generate plot\\nplt.title('k-NN Varying number of neighbors')\\nplt.plot(neighbors, test_accuracy, label='Testing Accuracy')\\nplt.plot(neighbors, train_accuracy, label='Training accuracy')\\nplt.legend()\\nplt.xlabel('Number of neighbors')\\nplt.ylabel('Accuracy')\\nplt.show()\""
            ],
            "application/vnd.google.colaboratory.intrinsic+json": {
              "type": "string"
            }
          },
          "metadata": {},
          "execution_count": 36
        }
      ]
    },
    {
      "cell_type": "code",
      "source": [
        "from sklearn.neighbors import KNeighborsClassifier\n",
        "from sklearn.metrics import accuracy_score, confusion_matrix, classification_report\n",
        "import pandas as pd\n",
        "\n",
        "\n",
        "# Create the KNN classifier\n",
        "knn_clf = KNeighborsClassifier(n_neighbors=20)\n",
        "# Train the classifier on the training data\n",
        "knn_clf.fit(X_train, y_train)\n",
        "\n",
        "def print_score(clf, X_train, y_train, X_test, y_test, train=True):\n",
        "    if train:\n",
        "        pred = clf.predict(X_train)\n",
        "        clf_report = pd.DataFrame(classification_report(y_train, pred, output_dict=True))\n",
        "        print(\"Train Result:\\n================================================\")\n",
        "        print(f\"Accuracy Score: {accuracy_score(y_train, pred) * 100:.2f}%\")\n",
        "        print(\"_______________________________________________\")\n",
        "        print(f\"CLASSIFICATION REPORT:\\n{clf_report}\")\n",
        "        print(\"_______________________________________________\")\n",
        "        print(f\"Confusion Matrix:\\n{confusion_matrix(y_train, pred)}\\n\")\n",
        "\n",
        "    elif not train:\n",
        "        pred = clf.predict(X_test)\n",
        "        clf_report = pd.DataFrame(classification_report(y_test, pred, output_dict=True))\n",
        "        print(\"Test Result:\\n================================================\")\n",
        "        print(f\"Accuracy Score: {accuracy_score(y_test, pred) * 100:.2f}%\")\n",
        "        print(\"_______________________________________________\")\n",
        "        print(f\"CLASSIFICATION REPORT:\\n{clf_report}\")\n",
        "        print(\"_______________________________________________\")\n",
        "        print(f\"Confusion Matrix:\\n{confusion_matrix(y_test, pred)}\\n\")\n",
        "\n",
        "print_score(knn_clf, X_train, y_train, X_test, y_test, train=True)\n",
        "print_score(knn_clf, X_train, y_train, X_test, y_test, train=False)\n"
      ],
      "metadata": {
        "colab": {
          "base_uri": "https://localhost:8080/"
        },
        "id": "vbh26NRRBB9S",
        "outputId": "008ccfe8-68ae-49b2-f3ec-e645fbe0d171"
      },
      "execution_count": null,
      "outputs": [
        {
          "output_type": "stream",
          "name": "stdout",
          "text": [
            "Train Result:\n",
            "================================================\n",
            "Accuracy Score: 70.06%\n",
            "_______________________________________________\n",
            "CLASSIFICATION REPORT:\n",
            "                      0             1  accuracy     macro avg  weighted avg\n",
            "precision      0.705982      0.596667   0.70063      0.651325      0.672222\n",
            "recall         0.971426      0.094601   0.70063      0.533013      0.700630\n",
            "f1-score       0.817701      0.163309   0.70063      0.490505      0.615601\n",
            "support    50815.000000  22706.000000   0.70063  73521.000000  73521.000000\n",
            "_______________________________________________\n",
            "Confusion Matrix:\n",
            "[[49363  1452]\n",
            " [20558  2148]]\n",
            "\n",
            "Test Result:\n",
            "================================================\n",
            "Accuracy Score: 68.04%\n",
            "_______________________________________________\n",
            "CLASSIFICATION REPORT:\n",
            "                     0            1  accuracy    macro avg  weighted avg\n",
            "precision     0.691614     0.466830  0.680416     0.579222      0.620520\n",
            "recall        0.961153     0.073529  0.680416     0.517341      0.680416\n",
            "f1-score      0.804405     0.127048  0.680416     0.465726      0.590171\n",
            "support    5586.000000  2584.000000  0.680416  8170.000000   8170.000000\n",
            "_______________________________________________\n",
            "Confusion Matrix:\n",
            "[[5369  217]\n",
            " [2394  190]]\n",
            "\n"
          ]
        }
      ]
    },
    {
      "cell_type": "markdown",
      "source": [
        "#4) FINAL RESULT AND MODEL COMPARISON"
      ],
      "metadata": {
        "id": "fMEzSt-QogKU"
      }
    },
    {
      "cell_type": "markdown",
      "source": [],
      "metadata": {
        "id": "DZu-w6hyn4lF"
      }
    },
    {
      "cell_type": "code",
      "source": [
        "from sklearn.tree import DecisionTreeClassifier\n",
        "from sklearn.ensemble import RandomForestClassifier\n",
        "from xgboost import XGBClassifier\n",
        "from sklearn.linear_model import LogisticRegression\n",
        "from sklearn.neighbors import KNeighborsClassifier\n",
        "from sklearn.metrics import accuracy_score, precision_score, recall_score, f1_score, roc_auc_score, roc_curve\n",
        "import matplotlib.pyplot as plt\n",
        "import pandas as pd\n",
        "\n",
        "# Initialize the classifiers\n",
        "classifiers = {\n",
        "    \"Decision Tree\": DecisionTreeClassifier(),\n",
        "    \"Random Forest\": RandomForestClassifier(),\n",
        "    \"XGBoost\": XGBClassifier(),\n",
        "    \"Logistic Regression\": LogisticRegression(),\n",
        "    \"KNeighborsClassifier\": KNeighborsClassifier(n_neighbors=20)\n",
        "}\n",
        "\n",
        "# Create a DataFrame to store the metrics\n",
        "metrics_df = pd.DataFrame(columns=[\"Classifier\", \"Accuracy\", \"Precision\", \"Recall\", \"F1 Score\", \"ROC AUC\"])\n",
        "\n",
        "# Train, evaluate, and compare classifiers\n",
        "for clf_name, clf in classifiers.items():\n",
        "    clf.fit(X_train, y_train)\n",
        "    y_pred = clf.predict(X_test)\n",
        "    y_scores = clf.predict_proba(X_test)[:, 1]\n",
        "\n",
        "    accuracy = round(accuracy_score(y_test, y_pred), 2)\n",
        "    precision = round(precision_score(y_test, y_pred), 2)\n",
        "    recall = round(recall_score(y_test, y_pred), 2)\n",
        "    f1 = round(f1_score(y_test, y_pred), 2)\n",
        "    roc_auc = round(roc_auc_score(y_test, y_scores), 2)\n",
        "\n",
        "    metrics_df = metrics_df.append({\n",
        "        \"Classifier\": clf_name,\n",
        "        \"Accuracy\": accuracy,\n",
        "        \"Precision\": precision,\n",
        "        \"Recall\": recall,\n",
        "        \"F1 Score\": f1,\n",
        "        \"ROC AUC\": roc_auc\n",
        "    }, ignore_index=True)\n",
        "\n",
        "    fpr, tpr, _ = roc_curve(y_test, y_scores)\n",
        "    plt.plot(fpr, tpr, label=f'{clf_name} (AUC = {roc_auc:.2f})')\n",
        "\n",
        "plt.plot([0, 1], [0, 1], 'k--')  # Diagonal line for random classifier\n",
        "plt.xlim([0.0, 1.0])\n",
        "plt.ylim([0.0, 1.05])\n",
        "plt.xlabel('False Positive Rate')\n",
        "plt.ylabel('True Positive Rate')\n",
        "plt.title('Receiver Operating Characteristic (ROC)')\n",
        "plt.legend(loc=\"lower right\", fontsize=\"small\")\n",
        "\n",
        "# Display the ROC curve plot\n",
        "plt.show()\n",
        "\n",
        "# Display the comparison table\n",
        "print(metrics_df)\n"
      ],
      "metadata": {
        "id": "DCM9c_GnAkBx",
        "colab": {
          "base_uri": "https://localhost:8080/",
          "height": 1000
        },
        "outputId": "6b744325-e35c-4cff-9291-451f47f48a59"
      },
      "execution_count": null,
      "outputs": [
        {
          "output_type": "stream",
          "name": "stderr",
          "text": [
            "<ipython-input-38-337d35e98a7a>:34: FutureWarning:\n",
            "\n",
            "The frame.append method is deprecated and will be removed from pandas in a future version. Use pandas.concat instead.\n",
            "\n",
            "<ipython-input-38-337d35e98a7a>:34: FutureWarning:\n",
            "\n",
            "The frame.append method is deprecated and will be removed from pandas in a future version. Use pandas.concat instead.\n",
            "\n",
            "<ipython-input-38-337d35e98a7a>:34: FutureWarning:\n",
            "\n",
            "The frame.append method is deprecated and will be removed from pandas in a future version. Use pandas.concat instead.\n",
            "\n",
            "/usr/local/lib/python3.10/dist-packages/sklearn/linear_model/_logistic.py:458: ConvergenceWarning:\n",
            "\n",
            "lbfgs failed to converge (status=1):\n",
            "STOP: TOTAL NO. of ITERATIONS REACHED LIMIT.\n",
            "\n",
            "Increase the number of iterations (max_iter) or scale the data as shown in:\n",
            "    https://scikit-learn.org/stable/modules/preprocessing.html\n",
            "Please also refer to the documentation for alternative solver options:\n",
            "    https://scikit-learn.org/stable/modules/linear_model.html#logistic-regression\n",
            "\n",
            "<ipython-input-38-337d35e98a7a>:34: FutureWarning:\n",
            "\n",
            "The frame.append method is deprecated and will be removed from pandas in a future version. Use pandas.concat instead.\n",
            "\n",
            "<ipython-input-38-337d35e98a7a>:34: FutureWarning:\n",
            "\n",
            "The frame.append method is deprecated and will be removed from pandas in a future version. Use pandas.concat instead.\n",
            "\n"
          ]
        },
        {
          "output_type": "display_data",
          "data": {
            "text/plain": [
              "<Figure size 640x480 with 1 Axes>"
            ],
            "image/png": "[encoded data removed]"
          },
          "metadata": {}
        },
        {
          "output_type": "stream",
          "name": "stdout",
          "text": [
            "             Classifier  Accuracy  Precision  Recall  F1 Score  ROC AUC\n",
            "0         Decision Tree      0.66       0.41    0.17      0.24     0.57\n",
            "1         Random Forest      0.66       0.40    0.18      0.25     0.58\n",
            "2               XGBoost      0.69       0.56    0.10      0.16     0.63\n",
            "3   Logistic Regression      0.69       0.64    0.05      0.09     0.63\n",
            "4  KNeighborsClassifier      0.68       0.47    0.07      0.13     0.59\n"
          ]
        }
      ]
    },
    {
      "cell_type": "markdown",
      "source": [
        "Coding References:\n",
        "\n",
        "1) https://www.kaggle.com/code/faressayah/decision-trees-random-forest-for-beginners/notebook#3.-Decision-Tree-&-Random-Forest-Implementation-in-python\n",
        "\n",
        "2) https://scikit-learn.org/stable/supervised_learning.html#supervised-learning\n",
        "\n",
        "3) https://matplotlib.org/3.5.3/api/_as_gen/matplotlib.pyplot.html"
      ],
      "metadata": {
        "id": "E2G0hxSuQgpU"
      }
    },
    {
      "cell_type": "code",
      "source": [],
      "metadata": {
        "id": "ABIMmdNgP8cm"
      },
      "execution_count": null,
      "outputs": []
    }
  ],
  "metadata": {
    "colab": {
      "provenance": []
    },
    "kernelspec": {
      "display_name": "Python 3",
      "name": "python3"
    },
    "language_info": {
      "name": "python"
    }
  },
  "nbformat": 4,
  "nbformat_minor": 0
}